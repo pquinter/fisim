{
 "cells": [
  {
   "cell_type": "markdown",
   "metadata": {},
   "source": [
    "# Questions\n",
    "\n",
    "- Do we have enough money in our retirement funds?\n",
    "\n",
    "## Factors to consider\n",
    "\n",
    "- Money available to invest\n",
    "- Return rate on stocks, bonds, and cash\n",
    "- Transition from stocks to bonds as we age\n",
    "- Taxes on distributions from 401k (treated as income)\n",
    "- IRA distributions are not taxed if below a certain threshold\n",
    "- Taxes on capital gains from taxable accounts\n",
    "- Inflation\n"
   ]
  },
  {
   "cell_type": "markdown",
   "metadata": {},
   "source": [
    "\n",
    "\n",
    "# TODO\n",
    "- Figure out events and how to apply them.\n",
    "- Add taxes to income at source.\n",
    "- Add taxes to assets at withdrawal.\n",
    "- Add inflation.\n",
    "- Balance asset allocation over time\n",
    "\n"
   ]
  },
  {
   "cell_type": "markdown",
   "metadata": {},
   "source": [
    "Thoughts on events\n",
    "```\n",
    "buy_house = Event(year=2026, down_payment=200_000, \n",
    "                  payment_per_year=30_000, duration=30,\n",
    "                  affected_ios=[housing, down_payment:cash, investments])\n",
    "\n",
    "have_kids = Event(year=2026, cost_of_birth=600_000, annual_cost_per_kid, duration=25, #years\n",
    "                  affected_ios=[childcare (maybe cost_of_living)])\n",
    "inheritance = Event(year=2100, downpayment=100_000, annual_cost_per_kid, duration=25, #years\n",
    "                 #affected_ios=[investments])\n",
    "\n",
    "FinancialModel(\n",
    "    revenues=[salary],\n",
    "    expenses=[housing],\n",
    "    events=[have_kids, buy_house]\n",
    ")\n"
   ]
  },
  {
   "cell_type": "markdown",
   "metadata": {},
   "source": []
  }
 ],
 "metadata": {
  "language_info": {
   "name": "python"
  }
 },
 "nbformat": 4,
 "nbformat_minor": 2
}
